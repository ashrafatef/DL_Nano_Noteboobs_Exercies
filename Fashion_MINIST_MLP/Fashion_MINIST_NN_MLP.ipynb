{
 "cells": [
  {
   "cell_type": "code",
   "execution_count": 2,
   "metadata": {},
   "outputs": [],
   "source": [
    "import torch\n",
    "from torchvision import datasets, transforms\n",
    "import helper\n"
   ]
  },
  {
   "cell_type": "markdown",
   "metadata": {},
   "source": [
    "Load dataset ( training , testing ) "
   ]
  },
  {
   "cell_type": "code",
   "execution_count": 3,
   "metadata": {},
   "outputs": [
    {
     "name": "stdout",
     "output_type": "stream",
     "text": [
      "Downloading http://fashion-mnist.s3-website.eu-central-1.amazonaws.com/train-images-idx3-ubyte.gz to C:\\Users\\ashrafatef/.pytorch/F_MNIST_data/FashionMNIST\\raw\\train-images-idx3-ubyte.gz\n"
     ]
    },
    {
     "name": "stderr",
     "output_type": "stream",
     "text": [
      "100%|████████████████▉| 26312704/26421880 [00:16<00:00, 1636477.65it/s]"
     ]
    },
    {
     "name": "stdout",
     "output_type": "stream",
     "text": [
      "Extracting C:\\Users\\ashrafatef/.pytorch/F_MNIST_data/FashionMNIST\\raw\\train-images-idx3-ubyte.gz to C:\\Users\\ashrafatef/.pytorch/F_MNIST_data/FashionMNIST\\raw\n",
      "Downloading http://fashion-mnist.s3-website.eu-central-1.amazonaws.com/train-labels-idx1-ubyte.gz to C:\\Users\\ashrafatef/.pytorch/F_MNIST_data/FashionMNIST\\raw\\train-labels-idx1-ubyte.gz\n"
     ]
    },
    {
     "name": "stderr",
     "output_type": "stream",
     "text": [
      "\n",
      "0it [00:00, ?it/s]\n",
      "32768it [00:00, 93878.75it/s]                                          \n"
     ]
    },
    {
     "name": "stdout",
     "output_type": "stream",
     "text": [
      "Extracting C:\\Users\\ashrafatef/.pytorch/F_MNIST_data/FashionMNIST\\raw\\train-labels-idx1-ubyte.gz to C:\\Users\\ashrafatef/.pytorch/F_MNIST_data/FashionMNIST\\raw\n",
      "Downloading http://fashion-mnist.s3-website.eu-central-1.amazonaws.com/t10k-images-idx3-ubyte.gz to C:\\Users\\ashrafatef/.pytorch/F_MNIST_data/FashionMNIST\\raw\\t10k-images-idx3-ubyte.gz\n"
     ]
    },
    {
     "name": "stderr",
     "output_type": "stream",
     "text": [
      "\n",
      "0it [00:00, ?it/s]\n",
      "  0%|                                      | 0/4422102 [00:00<?, ?it/s]\n",
      "  1%|▏                     | 40960/4422102 [00:00<00:16, 267513.79it/s]\n",
      "  3%|▌                    | 131072/4422102 [00:00<00:12, 338238.79it/s]\n",
      "  5%|█                    | 229376/4422102 [00:00<00:10, 397981.98it/s]\n",
      "  9%|█▉                   | 401408/4422102 [00:00<00:07, 516683.63it/s]\n",
      " 13%|██▊                  | 581632/4422102 [00:00<00:05, 653819.90it/s]\n",
      " 17%|███▌                 | 761856/4422102 [00:00<00:04, 804985.35it/s]\n",
      " 21%|████▍                | 933888/4422102 [00:01<00:03, 956767.82it/s]\n",
      " 25%|████▊              | 1114112/4422102 [00:01<00:02, 1107443.81it/s]\n",
      " 29%|█████▌             | 1286144/4422102 [00:01<00:02, 1239712.00it/s]\n",
      " 33%|██████▎            | 1458176/4422102 [00:01<00:02, 1353006.40it/s]\n",
      " 37%|███████            | 1638400/4422102 [00:01<00:01, 1450035.51it/s]\n",
      " 41%|███████▊           | 1818624/4422102 [00:01<00:01, 1524816.01it/s]\n",
      " 45%|████████▌          | 1990656/4422102 [00:01<00:01, 1577983.66it/s]\n",
      " 49%|█████████▎         | 2170880/4422102 [00:01<00:01, 1625924.67it/s]\n",
      " 53%|██████████         | 2342912/4422102 [00:01<00:01, 1651125.71it/s]\n",
      " 57%|██████████▊        | 2523136/4422102 [00:01<00:01, 1673020.50it/s]\n",
      " 61%|███████████▌       | 2703360/4422102 [00:02<00:01, 1693924.59it/s]\n",
      " 65%|████████████▍      | 2883584/4422102 [00:02<00:00, 1702096.06it/s]\n",
      " 69%|█████████████▏     | 3063808/4422102 [00:02<00:00, 1711932.49it/s]\n",
      " 73%|█████████████▉     | 3244032/4422102 [00:02<00:00, 1712249.04it/s]\n",
      " 77%|██████████████▋    | 3424256/4422102 [00:02<00:00, 1718323.82it/s]\n",
      " 82%|███████████████▍   | 3604480/4422102 [00:02<00:00, 1720406.00it/s]\n",
      " 86%|████████████████▎  | 3784704/4422102 [00:02<00:00, 1725739.34it/s]\n",
      " 90%|█████████████████  | 3964928/4422102 [00:02<00:00, 1724849.10it/s]\n",
      " 94%|█████████████████▊ | 4145152/4422102 [00:02<00:00, 1728074.38it/s]\n",
      " 98%|██████████████████▌| 4325376/4422102 [00:02<00:00, 1729169.61it/s]"
     ]
    },
    {
     "name": "stdout",
     "output_type": "stream",
     "text": [
      "Extracting C:\\Users\\ashrafatef/.pytorch/F_MNIST_data/FashionMNIST\\raw\\t10k-images-idx3-ubyte.gz to C:\\Users\\ashrafatef/.pytorch/F_MNIST_data/FashionMNIST\\raw\n",
      "Downloading http://fashion-mnist.s3-website.eu-central-1.amazonaws.com/t10k-labels-idx1-ubyte.gz to C:\\Users\\ashrafatef/.pytorch/F_MNIST_data/FashionMNIST\\raw\\t10k-labels-idx1-ubyte.gz\n"
     ]
    },
    {
     "name": "stderr",
     "output_type": "stream",
     "text": [
      "\n",
      "\n",
      "0it [00:00, ?it/s]\n",
      "\n",
      "8192it [00:00, 38532.89it/s]                                           \n"
     ]
    },
    {
     "name": "stdout",
     "output_type": "stream",
     "text": [
      "Extracting C:\\Users\\ashrafatef/.pytorch/F_MNIST_data/FashionMNIST\\raw\\t10k-labels-idx1-ubyte.gz to C:\\Users\\ashrafatef/.pytorch/F_MNIST_data/FashionMNIST\\raw\n",
      "Processing...\n",
      "Done!\n"
     ]
    },
    {
     "name": "stderr",
     "output_type": "stream",
     "text": [
      "26427392it [00:29, 1636477.65it/s]                                     \n",
      "4423680it [00:22, 1729169.61it/s]                                      "
     ]
    }
   ],
   "source": [
    "# Define a transform to normalize the data\n",
    "transform = transforms.Compose([transforms.ToTensor(),\n",
    "                                transforms.Normalize((0.5,), (0.5,))])\n",
    "# Download and load the training data\n",
    "trainset = datasets.FashionMNIST('~/.pytorch/F_MNIST_data/', download=True, train=True, transform=transform)\n",
    "trainloader = torch.utils.data.DataLoader(trainset, batch_size=64, shuffle=True)\n",
    "\n",
    "# Download and load the test data\n",
    "testset = datasets.FashionMNIST('~/.pytorch/F_MNIST_data/', download=True, train=False, transform=transform)\n",
    "testloader = torch.utils.data.DataLoader(testset, batch_size=64, shuffle=True)"
   ]
  },
  {
   "cell_type": "markdown",
   "metadata": {},
   "source": [
    "Show Single Image in dataset "
   ]
  },
  {
   "cell_type": "code",
   "execution_count": 19,
   "metadata": {},
   "outputs": [
    {
     "data": {
      "text/plain": [
       "1"
      ]
     },
     "execution_count": 19,
     "metadata": {},
     "output_type": "execute_result"
    }
   ],
   "source": [
    "image, label = next(iter(trainloader))\n",
    "# helper.imshow(image[0,:]);\n",
    "image[0,:].shape[0]"
   ]
  },
  {
   "cell_type": "markdown",
   "metadata": {},
   "source": [
    "Build My Network "
   ]
  },
  {
   "cell_type": "code",
   "execution_count": 21,
   "metadata": {},
   "outputs": [],
   "source": [
    "from torch import nn  \n",
    "import torch.nn.functional as F"
   ]
  },
  {
   "cell_type": "code",
   "execution_count": 40,
   "metadata": {},
   "outputs": [],
   "source": [
    "class Network(nn.Module):\n",
    "    def __init__(self):\n",
    "        super().__init__()\n",
    "        \n",
    "        self.L1 = nn.Linear(784,128)\n",
    "        self.L2 = nn.Linear(128,256)\n",
    "        self.L3 = nn.Linear(256,512)\n",
    "        self.L4 = nn.Linear(512,10)\n",
    "    \n",
    "    def forward(self, x):\n",
    "        \n",
    "        x = x.view(x.shape[0], -1)\n",
    "        \n",
    "        x = self.L1(x)\n",
    "        x = F.relu(x)\n",
    "        x = self.L2(x)\n",
    "        x = F.relu(x)\n",
    "        x = self.L3(x)\n",
    "        x = F.relu(x)\n",
    "        x = self.L4(x)\n",
    "        x = F.log_softmax(x,dim=1)\n",
    "        \n",
    "        return x "
   ]
  },
  {
   "cell_type": "code",
   "execution_count": 41,
   "metadata": {},
   "outputs": [],
   "source": [
    "model = Network()"
   ]
  },
  {
   "cell_type": "code",
   "execution_count": 42,
   "metadata": {},
   "outputs": [
    {
     "data": {
      "text/plain": [
       "Network(\n",
       "  (L1): Linear(in_features=784, out_features=128, bias=True)\n",
       "  (L2): Linear(in_features=128, out_features=256, bias=True)\n",
       "  (L3): Linear(in_features=256, out_features=512, bias=True)\n",
       "  (L4): Linear(in_features=512, out_features=10, bias=True)\n",
       ")"
      ]
     },
     "execution_count": 42,
     "metadata": {},
     "output_type": "execute_result"
    }
   ],
   "source": [
    "model"
   ]
  },
  {
   "cell_type": "code",
   "execution_count": 70,
   "metadata": {},
   "outputs": [],
   "source": [
    "from torch import optim"
   ]
  },
  {
   "cell_type": "code",
   "execution_count": 71,
   "metadata": {},
   "outputs": [],
   "source": [
    "criterion = nn.NLLLoss()\n",
    "optimizer = optim.Adam(model.parameters(), lr=0.003)"
   ]
  },
  {
   "cell_type": "code",
   "execution_count": 72,
   "metadata": {},
   "outputs": [
    {
     "name": "stdout",
     "output_type": "stream",
     "text": [
      "Training loss: 0.24229043645303705\n",
      "Training loss: 0.23413765610360515\n",
      "Training loss: 0.2304888737640147\n",
      "Training loss: 0.22323307004580492\n",
      "Training loss: 0.2288029206706199\n",
      "Training loss: 0.22180597015471856\n",
      "Training loss: 0.2138360373969716\n",
      "Training loss: 0.22057644556214942\n",
      "Training loss: 0.21212755020128002\n",
      "Training loss: 0.2085725283389216\n"
     ]
    }
   ],
   "source": [
    "epochs = 10 \n",
    "loss_epoch_arr = []\n",
    "for e in range(epochs):\n",
    "    \n",
    "    running_loss = 0 \n",
    "    for images, labels in trainloader:\n",
    "        \n",
    "        logs = model(images)\n",
    "        \n",
    "        loss = criterion(logs,labels)\n",
    "        optimizer.zero_grad()\n",
    "        loss.backward()\n",
    "        optimizer.step()\n",
    "        \n",
    "        running_loss += loss.item()\n",
    "    else:\n",
    "        print(f\"Training loss: {running_loss/len(trainloader)}\") \n",
    "    loss_epoch_arr.append(loss.item()) "
   ]
  },
  {
   "cell_type": "code",
   "execution_count": 73,
   "metadata": {},
   "outputs": [],
   "source": [
    "def evaluation(dataloader):\n",
    "    total, correct = 0, 0\n",
    "    #keeping the network in evaluation mode \n",
    "    model.eval()\n",
    "    for data in dataloader:\n",
    "        inputs, labels = data\n",
    "        outputs = model(inputs)\n",
    "        _, pred = torch.max(outputs.data, 1)\n",
    "        total += labels.size(0)\n",
    "        correct += (pred == labels).sum().item()\n",
    "    return 100 * correct / total"
   ]
  },
  {
   "cell_type": "code",
   "execution_count": 74,
   "metadata": {},
   "outputs": [
    {
     "name": "stdout",
     "output_type": "stream",
     "text": [
      "Test acc: 88.10\n"
     ]
    }
   ],
   "source": [
    "print('Test acc: %0.2f' % (evaluation(testloader)))"
   ]
  },
  {
   "cell_type": "code",
   "execution_count": 75,
   "metadata": {},
   "outputs": [
    {
     "data": {
      "image/png": "[encoded data removed]",
      "text/plain": [
       "<Figure size 432x288 with 1 Axes>"
      ]
     },
     "metadata": {
      "image/png": {
       "height": 261,
       "width": 398
      },
      "needs_background": "light"
     },
     "output_type": "display_data"
    }
   ],
   "source": [
    "import matplotlib.pyplot as plt\n",
    "plt.plot(loss_epoch_arr)\n",
    "plt.xlabel(\"Epoch\")\n",
    "plt.ylabel(\"Loss\")\n",
    "plt.show()"
   ]
  },
  {
   "cell_type": "code",
   "execution_count": 64,
   "metadata": {},
   "outputs": [
    {
     "name": "stdout",
     "output_type": "stream",
     "text": [
      "tensor(0)\n",
      "tensor([[9.0302e-01, 1.9233e-05, 1.9202e-03, 6.0582e-03, 6.4650e-05, 2.0203e-08,\n",
      "         8.8909e-02, 4.0498e-18, 1.0094e-05, 8.5706e-12]],\n",
      "       grad_fn=<ExpBackward>)\n"
     ]
    },
    {
     "data": {
      "image/png": "[encoded data removed]",
      "text/plain": [
       "<Figure size 432x648 with 2 Axes>"
      ]
     },
     "metadata": {
      "image/png": {
       "height": 216,
       "width": 424
      },
      "needs_background": "light"
     },
     "output_type": "display_data"
    }
   ],
   "source": [
    "%matplotlib inline\n",
    "%config InlineBackend.figure_format = 'retina'\n",
    "\n",
    "import helper\n",
    "\n",
    "# Test out your network!\n",
    "\n",
    "dataiter = iter(testloader)\n",
    "images, labels = dataiter.next()\n",
    "img = images[0]\n",
    "print(labels[0])\n",
    "# Convert 2D image to 1D vector\n",
    "img = img.resize_(1, 784)\n",
    "\n",
    "# TODO: Calculate the class probabilities (softmax) for img\n",
    "ps = torch.exp(model(img))\n",
    "\n",
    "print(ps)\n",
    "\n",
    "# Plot the image and probabilities\n",
    "helper.view_classify(img.resize_(1, 28, 28), ps, version='Fashion')"
   ]
  },
  {
   "cell_type": "code",
   "execution_count": null,
   "metadata": {},
   "outputs": [],
   "source": []
  }
 ],
 "metadata": {
  "kernelspec": {
   "display_name": "Python 3",
   "language": "python",
   "name": "python3"
  },
  "language_info": {
   "codemirror_mode": {
    "name": "ipython",
    "version": 3
   },
   "file_extension": ".py",
   "mimetype": "text/x-python",
   "name": "python",
   "nbconvert_exporter": "python",
   "pygments_lexer": "ipython3",
   "version": "3.7.4"
  }
 },
 "nbformat": 4,
 "nbformat_minor": 2
}
